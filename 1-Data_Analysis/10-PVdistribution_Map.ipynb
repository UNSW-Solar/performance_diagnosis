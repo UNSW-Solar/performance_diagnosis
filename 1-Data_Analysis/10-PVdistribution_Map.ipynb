{
 "cells": [
  {
   "cell_type": "code",
   "execution_count": 2,
   "metadata": {},
   "outputs": [],
   "source": [
    "import pandas as pd\n",
    "import numpy as np\n",
    "import warnings\n",
    "warnings.filterwarnings('ignore')"
   ]
  },
  {
   "cell_type": "code",
   "execution_count": null,
   "metadata": {},
   "outputs": [],
   "source": [
    "# ============================ read data ======================\n",
    "attlist = ['latitude', 'longitude', 'last_days', 'pvSizeWatt']\n",
    "# dataset with the recorded data time periods of each pv system\n",
    "df_lasttime = pd.read_csv('../preprocessed_data/daily_last_time_20231016.csv', header=0)\n",
    "df_lasttime['last_days'] = df_lasttime['last_days'].str.split(' ').str[0]\n",
    "\n",
    "# table with timezone\n",
    "df_tz = pd.read_csv('../input_data/SITE_nodeType_20230630.csv', header=0) \n",
    "\n",
    "# table with latitude & longitude & pvsize\n",
    "df_att = pd.read_csv('../input_data/MNTR_ddb_20230630.csv', header=0)\n",
    "df_att['timezone'] = df_att['siteId'].map(df_tz.set_index('source')['timezone'])\n",
    "df_att['last_days'] = df_att['source'].map(df_lasttime.set_index('source')['last_days'])\n",
    "df_att['last_days'] = df_att['last_days'].replace(np.nan, 0)\n",
    "df_att['latitude'] = [x[1:] for x in df_att['latitude']]\n",
    "\n",
    "for att in attlist:\n",
    "    df_att[att] = df_att[att].astype(float)\n",
    "print(len(df_att))\n",
    "df_att.head()"
   ]
  },
  {
   "cell_type": "code",
   "execution_count": null,
   "metadata": {},
   "outputs": [],
   "source": [
    "import folium\n",
    "m1 = folium.Map([-34.69016, 138.68792], zoom_start=4)\n",
    "for index, row in df_att.iterrows():\n",
    "    folium.Marker([row['latitude'], row['longitude']],\n",
    "                popup=row['pvSizeWatt'],\n",
    "                # tooltip=row[''],              \n",
    "                ).add_to(m1)\n",
    "m1"
   ]
  },
  {
   "cell_type": "code",
   "execution_count": null,
   "metadata": {},
   "outputs": [],
   "source": [
    "from folium import plugins\n",
    "import time\n",
    "m2 = folium.Map([-35.69016, 138.68792], zoom_start=4, width=\"%100\",height=\"%100\")\n",
    "locations = list(zip(df_att.latitude, df_att.longitude))\n",
    "cluster = plugins.MarkerCluster(locations=locations,                     \n",
    "               popups=df_att[\"source\"].tolist())  \n",
    "m2.add_child(cluster)\n",
    "heat_data = df_att.groupby([\"latitude\",\"longitude\"])['pvSizeWatt'].mean().reset_index().values.tolist()\n",
    "\n",
    "folium.plugins.HeatMap(heat_data).add_to(m2)\n",
    "\n",
    "# # save \n",
    "# m2.save('output.html')\n",
    "m2"
   ]
  },
  {
   "cell_type": "code",
   "execution_count": 6,
   "metadata": {},
   "outputs": [],
   "source": [
    "import branca.colormap as cm\n",
    "pvSize_max = df_att['pvSizeWatt'].max()/1000\n",
    "pvSize_min = df_att['pvSizeWatt'].min()/1000\n"
   ]
  },
  {
   "cell_type": "code",
   "execution_count": null,
   "metadata": {},
   "outputs": [],
   "source": [
    "\n",
    "m3 = folium.Map([-34.69016, 138.68792], zoom_start=4, width=\"%100\", height=\"%100\")\n",
    "\n",
    "lastday_min = df_att['last_days'].min()\n",
    "lastday_max = df_att['last_days'].max()\n",
    "\n",
    "colormap = cm.StepColormap(colors=['limegreen','red','blue','darkorange', 'darkviolet', 'black'] ,#renkler\n",
    "                           vmin= lastday_min, vmax= lastday_max, \n",
    "                           index = [lastday_min, 30, 90, 180, 300, 365, lastday_max],\n",
    "                           caption='Recorded Time Peroids of PV Systems (day), Circle size represents the PV size')\n",
    "colormap.to_linear()\n",
    "\n",
    "for index, row in df_att.iterrows():\n",
    "    pVsizer = row['pvSizeWatt']/1000\n",
    "    last_timer = row['last_days']\n",
    "    folium.Circle(\n",
    "          location=[row['latitude'], row['longitude']],\n",
    "          popup= 'pvsize:' + str(pVsizer) + ' ' + row['source'] + '||last_days=' + str(row['last_days']),\n",
    "          radius=row['pvSizeWatt']/8,\n",
    "          color=colormap(last_timer),\n",
    "          fill=True,\n",
    "          fill_color=colormap(last_timer),\n",
    "       ).add_to(m3)\n",
    "colormap.add_to(m3)\n",
    "m3\n"
   ]
  },
  {
   "cell_type": "code",
   "execution_count": null,
   "metadata": {},
   "outputs": [],
   "source": [
    "m4 = folium.Map([-34.69016, 138.68792], zoom_start=4, width=\"%100\", height=\"%100\")\n",
    "colormap = cm.StepColormap(colors=['green','red','blue','orange', 'purple', 'black'] ,#renkler\n",
    "                           vmin= pvSize_min, vmax= pvSize_max, \n",
    "                           index = [pvSize_min, 100, 300, 1000, 1500, 2000, pvSize_max],\n",
    "                           caption='PV Size of Each PV System (kW), Circle Size Represents the Recorded Time Period')\n",
    "colormap.to_linear()\n",
    "for index, row in df_att.iterrows():\n",
    "    pVsizer = row['pvSizeWatt']/1000\n",
    "    if row['last_days'] is None:\n",
    "        row['last_days'] = 0\n",
    "    else:\n",
    "        row['last_days'] = float(row['last_days'])\n",
    "    folium.Circle(\n",
    "          location=[row['latitude'], row['longitude']],\n",
    "          popup= 'pvsize:' + str(pVsizer) + ' ' + row['source'] + '||last_days=' + str(row['last_days']),\n",
    "          radius=row['last_days']*200,\n",
    "          color=colormap(pVsizer),\n",
    "          fill=True,\n",
    "          fill_color=colormap(pVsizer),\n",
    "       ).add_to(m4)\n",
    "colormap.add_to(m4)\n",
    "# m4.save('pvsize_kw_map.html')\n",
    "m4"
   ]
  }
 ],
 "metadata": {
  "kernelspec": {
   "display_name": "Python 3.9.7 ('base')",
   "language": "python",
   "name": "python3"
  },
  "language_info": {
   "codemirror_mode": {
    "name": "ipython",
    "version": 3
   },
   "file_extension": ".py",
   "mimetype": "text/x-python",
   "name": "python",
   "nbconvert_exporter": "python",
   "pygments_lexer": "ipython3",
   "version": "3.9.16"
  },
  "orig_nbformat": 4,
  "vscode": {
   "interpreter": {
    "hash": "5acc07ed5ac255cd62f7120deaeb284a3ae93f138ebf0c8efb506c7ae32474c3"
   }
  }
 },
 "nbformat": 4,
 "nbformat_minor": 2
}
